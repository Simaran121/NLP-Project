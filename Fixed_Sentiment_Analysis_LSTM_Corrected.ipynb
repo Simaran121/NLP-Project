{
 "cells": [
  {
   "cell_type": "code",
   "execution_count": 1,
   "id": "ff98423a-a4dc-4b02-b1f9-67f9944962a7",
   "metadata": {},
   "outputs": [],
   "source": [
    "import os\n",
    "os.environ[\"TF_USE_LEGACY_KERAS\"] = \"1\"\n"
   ]
  },
  {
   "cell_type": "code",
   "execution_count": 2,
   "id": "6bcee9cb-73dd-4297-8ae2-daf56c1d452d",
   "metadata": {},
   "outputs": [
    {
     "name": "stdout",
     "output_type": "stream",
     "text": [
      "Requirement already satisfied: pandas in c:\\users\\hp\\anaconda3\\lib\\site-packages (2.1.4)\n",
      "Requirement already satisfied: scikit-learn in c:\\users\\hp\\anaconda3\\lib\\site-packages (1.2.2)\n",
      "Requirement already satisfied: nltk in c:\\users\\hp\\anaconda3\\lib\\site-packages (3.8.1)\n",
      "Requirement already satisfied: tensorflow in c:\\users\\hp\\anaconda3\\lib\\site-packages (2.19.0)\n",
      "Requirement already satisfied: transformers in c:\\users\\hp\\anaconda3\\lib\\site-packages (4.51.2)\n",
      "Requirement already satisfied: torch in c:\\users\\hp\\anaconda3\\lib\\site-packages (2.6.0)\n",
      "Requirement already satisfied: numpy<2,>=1.23.2 in c:\\users\\hp\\anaconda3\\lib\\site-packages (from pandas) (1.26.4)\n",
      "Requirement already satisfied: python-dateutil>=2.8.2 in c:\\users\\hp\\anaconda3\\lib\\site-packages (from pandas) (2.8.2)\n",
      "Requirement already satisfied: pytz>=2020.1 in c:\\users\\hp\\anaconda3\\lib\\site-packages (from pandas) (2023.3.post1)\n",
      "Requirement already satisfied: tzdata>=2022.1 in c:\\users\\hp\\anaconda3\\lib\\site-packages (from pandas) (2023.3)\n",
      "Requirement already satisfied: scipy>=1.3.2 in c:\\users\\hp\\anaconda3\\lib\\site-packages (from scikit-learn) (1.11.4)\n",
      "Requirement already satisfied: joblib>=1.1.1 in c:\\users\\hp\\anaconda3\\lib\\site-packages (from scikit-learn) (1.4.2)\n",
      "Requirement already satisfied: threadpoolctl>=2.0.0 in c:\\users\\hp\\anaconda3\\lib\\site-packages (from scikit-learn) (2.2.0)\n",
      "Requirement already satisfied: click in c:\\users\\hp\\anaconda3\\lib\\site-packages (from nltk) (8.1.7)\n",
      "Requirement already satisfied: regex>=2021.8.3 in c:\\users\\hp\\anaconda3\\lib\\site-packages (from nltk) (2023.10.3)\n",
      "Requirement already satisfied: tqdm in c:\\users\\hp\\anaconda3\\lib\\site-packages (from nltk) (4.65.0)\n",
      "Requirement already satisfied: absl-py>=1.0.0 in c:\\users\\hp\\appdata\\roaming\\python\\python311\\site-packages (from tensorflow) (2.1.0)\n",
      "Requirement already satisfied: astunparse>=1.6.0 in c:\\users\\hp\\appdata\\roaming\\python\\python311\\site-packages (from tensorflow) (1.6.3)\n",
      "Requirement already satisfied: flatbuffers>=24.3.25 in c:\\users\\hp\\appdata\\roaming\\python\\python311\\site-packages (from tensorflow) (24.3.25)\n",
      "Requirement already satisfied: gast!=0.5.0,!=0.5.1,!=0.5.2,>=0.2.1 in c:\\users\\hp\\appdata\\roaming\\python\\python311\\site-packages (from tensorflow) (0.6.0)\n",
      "Requirement already satisfied: google-pasta>=0.1.1 in c:\\users\\hp\\appdata\\roaming\\python\\python311\\site-packages (from tensorflow) (0.2.0)\n",
      "Requirement already satisfied: libclang>=13.0.0 in c:\\users\\hp\\appdata\\roaming\\python\\python311\\site-packages (from tensorflow) (18.1.1)\n",
      "Requirement already satisfied: opt-einsum>=2.3.2 in c:\\users\\hp\\appdata\\roaming\\python\\python311\\site-packages (from tensorflow) (3.4.0)\n",
      "Requirement already satisfied: packaging in c:\\users\\hp\\anaconda3\\lib\\site-packages (from tensorflow) (23.1)\n",
      "Requirement already satisfied: protobuf!=4.21.0,!=4.21.1,!=4.21.2,!=4.21.3,!=4.21.4,!=4.21.5,<6.0.0dev,>=3.20.3 in c:\\users\\hp\\anaconda3\\lib\\site-packages (from tensorflow) (3.20.3)\n",
      "Requirement already satisfied: requests<3,>=2.21.0 in c:\\users\\hp\\anaconda3\\lib\\site-packages (from tensorflow) (2.31.0)\n",
      "Requirement already satisfied: setuptools in c:\\users\\hp\\anaconda3\\lib\\site-packages (from tensorflow) (68.2.2)\n",
      "Requirement already satisfied: six>=1.12.0 in c:\\users\\hp\\anaconda3\\lib\\site-packages (from tensorflow) (1.16.0)\n",
      "Requirement already satisfied: termcolor>=1.1.0 in c:\\users\\hp\\appdata\\roaming\\python\\python311\\site-packages (from tensorflow) (2.5.0)\n",
      "Requirement already satisfied: typing-extensions>=3.6.6 in c:\\users\\hp\\anaconda3\\lib\\site-packages (from tensorflow) (4.13.2)\n",
      "Requirement already satisfied: wrapt>=1.11.0 in c:\\users\\hp\\anaconda3\\lib\\site-packages (from tensorflow) (1.14.1)\n",
      "Requirement already satisfied: grpcio<2.0,>=1.24.3 in c:\\users\\hp\\appdata\\roaming\\python\\python311\\site-packages (from tensorflow) (1.68.0)\n",
      "Requirement already satisfied: tensorboard~=2.19.0 in c:\\users\\hp\\anaconda3\\lib\\site-packages (from tensorflow) (2.19.0)\n",
      "Requirement already satisfied: keras>=3.5.0 in c:\\users\\hp\\appdata\\roaming\\python\\python311\\site-packages (from tensorflow) (3.6.0)\n",
      "Requirement already satisfied: h5py>=3.11.0 in c:\\users\\hp\\appdata\\roaming\\python\\python311\\site-packages (from tensorflow) (3.12.1)\n",
      "Requirement already satisfied: ml-dtypes<1.0.0,>=0.5.1 in c:\\users\\hp\\anaconda3\\lib\\site-packages (from tensorflow) (0.5.1)\n",
      "Requirement already satisfied: tensorflow-io-gcs-filesystem>=0.23.1 in c:\\users\\hp\\appdata\\roaming\\python\\python311\\site-packages (from tensorflow) (0.31.0)\n",
      "Requirement already satisfied: filelock in c:\\users\\hp\\anaconda3\\lib\\site-packages (from transformers) (3.13.1)\n",
      "Requirement already satisfied: huggingface-hub<1.0,>=0.30.0 in c:\\users\\hp\\anaconda3\\lib\\site-packages (from transformers) (0.30.2)\n",
      "Requirement already satisfied: pyyaml>=5.1 in c:\\users\\hp\\anaconda3\\lib\\site-packages (from transformers) (6.0.1)\n",
      "Requirement already satisfied: tokenizers<0.22,>=0.21 in c:\\users\\hp\\anaconda3\\lib\\site-packages (from transformers) (0.21.1)\n",
      "Requirement already satisfied: safetensors>=0.4.3 in c:\\users\\hp\\anaconda3\\lib\\site-packages (from transformers) (0.5.3)\n",
      "Requirement already satisfied: networkx in c:\\users\\hp\\anaconda3\\lib\\site-packages (from torch) (3.1)\n",
      "Requirement already satisfied: jinja2 in c:\\users\\hp\\anaconda3\\lib\\site-packages (from torch) (3.1.3)\n",
      "Requirement already satisfied: fsspec in c:\\users\\hp\\anaconda3\\lib\\site-packages (from torch) (2023.10.0)\n",
      "Requirement already satisfied: sympy==1.13.1 in c:\\users\\hp\\anaconda3\\lib\\site-packages (from torch) (1.13.1)\n",
      "Requirement already satisfied: mpmath<1.4,>=1.1.0 in c:\\users\\hp\\anaconda3\\lib\\site-packages (from sympy==1.13.1->torch) (1.3.0)\n",
      "Requirement already satisfied: wheel<1.0,>=0.23.0 in c:\\users\\hp\\anaconda3\\lib\\site-packages (from astunparse>=1.6.0->tensorflow) (0.41.2)\n",
      "Requirement already satisfied: rich in c:\\users\\hp\\anaconda3\\lib\\site-packages (from keras>=3.5.0->tensorflow) (13.3.5)\n",
      "Requirement already satisfied: namex in c:\\users\\hp\\appdata\\roaming\\python\\python311\\site-packages (from keras>=3.5.0->tensorflow) (0.0.8)\n",
      "Requirement already satisfied: optree in c:\\users\\hp\\appdata\\roaming\\python\\python311\\site-packages (from keras>=3.5.0->tensorflow) (0.13.1)\n",
      "Requirement already satisfied: charset-normalizer<4,>=2 in c:\\users\\hp\\anaconda3\\lib\\site-packages (from requests<3,>=2.21.0->tensorflow) (2.0.4)\n",
      "Requirement already satisfied: idna<4,>=2.5 in c:\\users\\hp\\anaconda3\\lib\\site-packages (from requests<3,>=2.21.0->tensorflow) (3.4)\n",
      "Requirement already satisfied: urllib3<3,>=1.21.1 in c:\\users\\hp\\anaconda3\\lib\\site-packages (from requests<3,>=2.21.0->tensorflow) (2.0.7)\n",
      "Requirement already satisfied: certifi>=2017.4.17 in c:\\users\\hp\\anaconda3\\lib\\site-packages (from requests<3,>=2.21.0->tensorflow) (2024.2.2)\n",
      "Requirement already satisfied: markdown>=2.6.8 in c:\\users\\hp\\anaconda3\\lib\\site-packages (from tensorboard~=2.19.0->tensorflow) (3.4.1)\n",
      "Requirement already satisfied: tensorboard-data-server<0.8.0,>=0.7.0 in c:\\users\\hp\\appdata\\roaming\\python\\python311\\site-packages (from tensorboard~=2.19.0->tensorflow) (0.7.2)\n",
      "Requirement already satisfied: werkzeug>=1.0.1 in c:\\users\\hp\\anaconda3\\lib\\site-packages (from tensorboard~=2.19.0->tensorflow) (2.2.3)\n",
      "Requirement already satisfied: colorama in c:\\users\\hp\\anaconda3\\lib\\site-packages (from tqdm->nltk) (0.4.6)\n",
      "Requirement already satisfied: MarkupSafe>=2.0 in c:\\users\\hp\\anaconda3\\lib\\site-packages (from jinja2->torch) (2.1.3)\n",
      "Requirement already satisfied: markdown-it-py<3.0.0,>=2.2.0 in c:\\users\\hp\\anaconda3\\lib\\site-packages (from rich->keras>=3.5.0->tensorflow) (2.2.0)\n",
      "Requirement already satisfied: pygments<3.0.0,>=2.13.0 in c:\\users\\hp\\anaconda3\\lib\\site-packages (from rich->keras>=3.5.0->tensorflow) (2.19.1)\n",
      "Requirement already satisfied: mdurl~=0.1 in c:\\users\\hp\\anaconda3\\lib\\site-packages (from markdown-it-py<3.0.0,>=2.2.0->rich->keras>=3.5.0->tensorflow) (0.1.0)\n"
     ]
    }
   ],
   "source": [
    "!pip install pandas scikit-learn nltk tensorflow transformers torch\n"
   ]
  },
  {
   "cell_type": "code",
   "execution_count": 3,
   "id": "669dff48-bc58-49bf-8691-c27b09463e58",
   "metadata": {},
   "outputs": [
    {
     "name": "stdout",
     "output_type": "stream",
     "text": [
      " Loaded: train.csv | Shape: (2480, 2)\n",
      " Loaded: valid.csv | Shape: (310, 2)\n",
      " Loaded: test.csv | Shape: (310, 2)\n",
      "\n",
      " Balanced Class Distribution:\n",
      "Train:\n",
      " sentiment\n",
      "neutral     697\n",
      "positive    697\n",
      "negative    697\n",
      "Name: count, dtype: int64\n",
      "Validation:\n",
      " sentiment\n",
      "positive    80\n",
      "negative    80\n",
      "neutral     80\n",
      "Name: count, dtype: int64\n",
      "Test:\n",
      " sentiment\n",
      "positive    90\n",
      "negative    90\n",
      "neutral     90\n",
      "Name: count, dtype: int64\n",
      "\n",
      " Neutral Reviews - Train:\n",
      "   sentiment                                             review\n",
      "0    neutral            समीर और संजीव चतुर्वेदी के गीत औसत हैं।\n",
      "5    neutral  निर्माता :\\nनीरज पाठक, कृष्ण चौधरी\\n\\nनिर्देशक...\n",
      "14   neutral  यह रिश्ता उनकी इमेज, बातचीत और निभाए किरदारों ...\n",
      "15   neutral  तीन संगीतकार ‍(हिमेश रेशमिया, आनंद राज आनंद और...\n",
      "21   neutral  अनुराग कश्यप की फिल्म 'अग्ली' के इस शीर्षक गीत...\n",
      "\n",
      " Neutral Reviews - Validation:\n",
      "   sentiment                                             review\n",
      "5    neutral  श्रीजीत मुखर्जी ने अपनी बंगाली फिल्म 'राजकहिनी...\n",
      "6    neutral  आखिरकार उसे तीसरी लड़की से हुए प्यार का एहसास ...\n",
      "11   neutral  वे फिल्म के क्लाईमेक्स और निष्कर्ष तक बगैर लाग...\n",
      "13   neutral  बाघिन का चित्रण और फिल्मांकन किसी मनुष्य की तर...\n",
      "15   neutral  साजिद खान ने अपने कार्यक्रमों के जरिये फिल्म औ...\n",
      "\n",
      " Neutral Reviews - Test:\n",
      "   sentiment                                             review\n",
      "4    neutral  बैनर :\\nरील लाइफ एंटरटेनमेंट प्रा.लि., गेटअवे ...\n",
      "6    neutral  उन्होंने नसीरुद्दीन शाह और रणदीप हुड्डा के साथ...\n",
      "9    neutral  तब वह मोटी थी और जेरी  ने उस पर ध्यान नहीं दिय...\n",
      "10   neutral  सेकेंड लीड में वे मनसुख भाई के रूप में भी दिखा...\n",
      "11   neutral      फिल्म के लिए वही उसी शापित बंगले में जाता है।\n",
      "\n",
      "📌 Total Neutral (Train): 697\n",
      "📌 Total Neutral (Valid): 80\n",
      "📌 Total Neutral (Test):  90\n"
     ]
    }
   ],
   "source": [
    "import pandas as pd\n",
    "import os\n",
    "from sklearn.utils import resample\n",
    "\n",
    "#  Dataset directory\n",
    "dataset_dir= r\"C:\\Users\\HP\\Downloads\\NLP\\NLP\\iitp-movie-reviews\\hi\"\n",
    "\n",
    "#  Load CSV dataset\n",
    "def load_dataset(file_name):\n",
    "    file_path = os.path.join(dataset_dir, file_name)\n",
    "    if not os.path.exists(file_path):\n",
    "        print(f\" Error: File '{file_name}' not found at {file_path}\")\n",
    "        return None\n",
    "    df = pd.read_csv(file_path, header=None, names=[\"sentiment\", \"review\"])\n",
    "    print(f\" Loaded: {file_name} | Shape: {df.shape}\")\n",
    "    return df\n",
    "\n",
    "#  Load datasets\n",
    "train_df = load_dataset(\"train.csv\")\n",
    "valid_df = load_dataset(\"valid.csv\")\n",
    "test_df = load_dataset(\"test.csv\")\n",
    "\n",
    "#  Function to balance any dataset\n",
    "def balance_dataset(df):\n",
    "    class_counts = df[\"sentiment\"].value_counts()\n",
    "    min_count = class_counts.min()\n",
    "    balanced = pd.concat([\n",
    "        resample(df[df[\"sentiment\"] == sentiment], n_samples=min_count, random_state=42)\n",
    "        for sentiment in class_counts.index\n",
    "    ])\n",
    "    return balanced.sample(frac=1, random_state=42).reset_index(drop=True)\n",
    "\n",
    "#  Balance all datasets\n",
    "train_df = balance_dataset(train_df)\n",
    "valid_df = balance_dataset(valid_df)\n",
    "test_df = balance_dataset(test_df)\n",
    "\n",
    "#  Show class distributions\n",
    "print(\"\\n Balanced Class Distribution:\")\n",
    "print(\"Train:\\n\", train_df[\"sentiment\"].value_counts())\n",
    "print(\"Validation:\\n\", valid_df[\"sentiment\"].value_counts())\n",
    "print(\"Test:\\n\", test_df[\"sentiment\"].value_counts())\n",
    "\n",
    "#  Show sample neutral reviews\n",
    "neutral_train = train_df[train_df[\"sentiment\"] == \"neutral\"]\n",
    "neutral_valid = valid_df[valid_df[\"sentiment\"] == \"neutral\"]\n",
    "neutral_test = test_df[test_df[\"sentiment\"] == \"neutral\"]\n",
    "\n",
    "print(\"\\n Neutral Reviews - Train:\")\n",
    "print(neutral_train.head(5))\n",
    "\n",
    "print(\"\\n Neutral Reviews - Validation:\")\n",
    "print(neutral_valid.head(5))\n",
    "\n",
    "print(\"\\n Neutral Reviews - Test:\")\n",
    "print(neutral_test.head(5))\n",
    "\n",
    "#  Show count of neutral examples\n",
    "print(f\"\\n📌 Total Neutral (Train): {len(neutral_train)}\")\n",
    "print(f\"📌 Total Neutral (Valid): {len(neutral_valid)}\")\n",
    "print(f\"📌 Total Neutral (Test):  {len(neutral_test)}\")\n"
   ]
  },
  {
   "cell_type": "code",
   "execution_count": 4,
   "id": "915ebf2d-b96c-4e37-be7e-f10986afcaa0",
   "metadata": {},
   "outputs": [
    {
     "name": "stderr",
     "output_type": "stream",
     "text": [
      "[nltk_data] Downloading package punkt to\n",
      "[nltk_data]     C:\\Users\\HP\\AppData\\Roaming\\nltk_data...\n",
      "[nltk_data]   Package punkt is already up-to-date!\n"
     ]
    }
   ],
   "source": [
    "import re\n",
    "import numpy as np\n",
    "from sklearn.model_selection import train_test_split\n",
    "from sklearn.metrics import classification_report\n",
    "from sklearn.feature_extraction.text import TfidfVectorizer\n",
    "import nltk\n",
    "\n",
    "# Define Hindi stopwords manually\n",
    "hindi_stop_words = set([\n",
    "    \"है\", \"और\", \"था\", \"थे\", \"हैं\", \"कर\", \"रहा\", \"रहे\", \"इस\", \"कि\", \"जो\", \"तक\", \"ने\", \n",
    "    \"को\", \"पर\", \"से\", \"भी\", \"या\", \"लिए\", \"तो\", \"ही\", \"में\", \"यह\", \"थे\", \"था\", \"हो\", \n",
    "    \"गया\", \"दिया\", \"करना\", \"किया\", \"जा\", \"गई\", \"रखी\", \"रख\", \"वाले\", \"उनके\", \"उनकी\",\n",
    "    \"इन\", \"उन\", \"कुछ\", \"कौन\", \"किस\", \"क्या\", \"कैसे\", \"कब\", \"कहाँ\", \"नहीं\", \"बाद\",\n",
    "    \"बिना\", \"बड़ा\", \"बड़े\", \"होता\", \"जैसे\", \"जब\", \"लेकिन\", \"यदि\"\n",
    "])\n",
    "\n",
    "# Optional: download punkt if needed for tokenization\n",
    "nltk.download('punkt')\n",
    "\n",
    "def preprocess_text(text):\n",
    "    text = str(text).lower()\n",
    "    text = re.sub(r'[^\\w\\s]', '', text)  # remove punctuation\n",
    "    text = \" \".join([word for word in text.split() if word not in hindi_stop_words])\n",
    "    return text\n"
   ]
  },
  {
   "cell_type": "code",
   "execution_count": 5,
   "id": "fa34f425-28ba-4819-97a0-4343539aeba2",
   "metadata": {},
   "outputs": [
    {
     "name": "stdout",
     "output_type": "stream",
     "text": [
      "🎯 Random Forest Results:\n",
      "              precision    recall  f1-score   support\n",
      "\n",
      "    negative       0.63      0.61      0.62        90\n",
      "     neutral       0.57      0.44      0.50        90\n",
      "    positive       0.51      0.64      0.57        90\n",
      "\n",
      "    accuracy                           0.57       270\n",
      "   macro avg       0.57      0.57      0.56       270\n",
      "weighted avg       0.57      0.57      0.56       270\n",
      "\n"
     ]
    }
   ],
   "source": [
    "from sklearn.ensemble import RandomForestClassifier\n",
    "\n",
    "# Preprocess data\n",
    "train_df[\"clean_review\"] = train_df[\"review\"].apply(preprocess_text)\n",
    "test_df[\"clean_review\"] = test_df[\"review\"].apply(preprocess_text)\n",
    "\n",
    "# Vectorize\n",
    "tfidf = TfidfVectorizer(max_features=5000)\n",
    "X_train = tfidf.fit_transform(train_df[\"clean_review\"])\n",
    "X_test = tfidf.transform(test_df[\"clean_review\"])\n",
    "\n",
    "# Encode labels\n",
    "from sklearn.preprocessing import LabelEncoder\n",
    "le = LabelEncoder()\n",
    "y_train = le.fit_transform(train_df[\"sentiment\"])\n",
    "y_test = le.transform(test_df[\"sentiment\"])\n",
    "\n",
    "# Train Random Forest\n",
    "rf = RandomForestClassifier(n_estimators=100, random_state=42)\n",
    "rf.fit(X_train, y_train)\n",
    "\n",
    "# Evaluate\n",
    "y_pred_rf = rf.predict(X_test)\n",
    "print(\"🎯 Random Forest Results:\")\n",
    "print(classification_report(y_test, y_pred_rf, target_names=le.classes_))\n"
   ]
  },
  {
   "cell_type": "code",
   "execution_count": 6,
   "id": "c20ca4ee-b85b-43cb-89e4-83524077a7da",
   "metadata": {},
   "outputs": [
    {
     "name": "stdout",
     "output_type": "stream",
     "text": [
      "🎯 Random Forest Results:\n",
      "              precision    recall  f1-score   support\n",
      "\n",
      "    negative       0.63      0.61      0.62        90\n",
      "     neutral       0.57      0.44      0.50        90\n",
      "    positive       0.51      0.64      0.57        90\n",
      "\n",
      "    accuracy                           0.57       270\n",
      "   macro avg       0.57      0.57      0.56       270\n",
      "weighted avg       0.57      0.57      0.56       270\n",
      "\n"
     ]
    }
   ],
   "source": [
    "from sklearn.ensemble import RandomForestClassifier\n",
    "\n",
    "# Preprocess data\n",
    "train_df[\"clean_review\"] = train_df[\"review\"].apply(preprocess_text)\n",
    "test_df[\"clean_review\"] = test_df[\"review\"].apply(preprocess_text)\n",
    "\n",
    "# Vectorize\n",
    "tfidf = TfidfVectorizer(max_features=5000)\n",
    "X_train = tfidf.fit_transform(train_df[\"clean_review\"])\n",
    "X_test = tfidf.transform(test_df[\"clean_review\"])\n",
    "\n",
    "# Encode labels\n",
    "from sklearn.preprocessing import LabelEncoder\n",
    "le = LabelEncoder()\n",
    "y_train = le.fit_transform(train_df[\"sentiment\"])\n",
    "y_test = le.transform(test_df[\"sentiment\"])\n",
    "\n",
    "# Train Random Forest\n",
    "rf = RandomForestClassifier(n_estimators=100, random_state=42)\n",
    "rf.fit(X_train, y_train)\n",
    "\n",
    "# Evaluate\n",
    "y_pred_rf = rf.predict(X_test)\n",
    "print(\"🎯 Random Forest Results:\")\n",
    "print(classification_report(y_test, y_pred_rf, target_names=le.classes_))\n"
   ]
  },
  {
   "cell_type": "code",
   "execution_count": 11,
   "id": "ed3aceeb",
   "metadata": {},
   "outputs": [
    {
     "name": "stdout",
     "output_type": "stream",
     "text": [
      "🌲 Random Forest Classification Report:\n",
      "              precision    recall  f1-score   support\n",
      "\n",
      "    negative       0.65      0.58      0.61        90\n",
      "     neutral       0.61      0.53      0.57        90\n",
      "    positive       0.52      0.64      0.58        90\n",
      "\n",
      "    accuracy                           0.59       270\n",
      "   macro avg       0.59      0.59      0.59       270\n",
      "weighted avg       0.59      0.59      0.59       270\n",
      "\n"
     ]
    },
    {
     "data": {
      "image/png": "[encoded data removed]",
      "text/plain": [
       "<Figure size 640x480 with 2 Axes>"
      ]
     },
     "metadata": {},
     "output_type": "display_data"
    }
   ],
   "source": [
    "\n",
    "# Random Forest block\n",
    "import matplotlib.pyplot as plt\n",
    "import seaborn as sns\n",
    "from sklearn.feature_extraction.text import TfidfVectorizer\n",
    "from sklearn.ensemble import RandomForestClassifier\n",
    "from sklearn.metrics import classification_report, confusion_matrix\n",
    "\n",
    "# TF-IDF\n",
    "tfidf = TfidfVectorizer(max_features=5000)\n",
    "X_train_tfidf = tfidf.fit_transform(train_df['clean_review']).toarray()\n",
    "X_test_tfidf = tfidf.transform(test_df['clean_review']).toarray()\n",
    "\n",
    "# Train RF\n",
    "rf_model = RandomForestClassifier(n_estimators=200, random_state=42)\n",
    "rf_model.fit(X_train_tfidf, y_train)\n",
    "y_pred_rf = rf_model.predict(X_test_tfidf)\n",
    "\n",
    "# Evaluation\n",
    "print(\"🌲 Random Forest Classification Report:\")\n",
    "print(classification_report(y_test, y_pred_rf, target_names=le.classes_))\n",
    "\n",
    "cm_rf = confusion_matrix(y_test, y_pred_rf)\n",
    "sns.heatmap(cm_rf, annot=True, fmt='d', xticklabels=le.classes_, yticklabels=le.classes_, cmap='Greens')\n",
    "plt.xlabel('Predicted')\n",
    "plt.ylabel('Actual')\n",
    "plt.title('Random Forest Confusion Matrix')\n",
    "plt.show()\n"
   ]
  },
  {
   "cell_type": "code",
   "execution_count": 47,
   "id": "695e3c15-8fa5-42cd-8711-016343ec5614",
   "metadata": {},
   "outputs": [
    {
     "name": "stdout",
     "output_type": "stream",
     "text": [
      "Epoch 1/10\n",
      "59/59 [==============================] - 40s 383ms/step - loss: 1.0796 - accuracy: 0.4200 - val_loss: 1.0094 - val_accuracy: 0.4714\n",
      "Epoch 2/10\n",
      "59/59 [==============================] - 18s 311ms/step - loss: 0.7464 - accuracy: 0.6906 - val_loss: 0.7936 - val_accuracy: 0.7000\n",
      "Epoch 3/10\n",
      "59/59 [==============================] - 18s 309ms/step - loss: 0.3378 - accuracy: 0.8878 - val_loss: 0.6212 - val_accuracy: 0.7667\n",
      "Epoch 4/10\n",
      "59/59 [==============================] - 18s 307ms/step - loss: 0.1633 - accuracy: 0.9484 - val_loss: 0.7862 - val_accuracy: 0.7667\n",
      "Epoch 5/10\n",
      "59/59 [==============================] - 18s 311ms/step - loss: 0.0857 - accuracy: 0.9777 - val_loss: 0.9163 - val_accuracy: 0.7667\n",
      "Epoch 6/10\n",
      "59/59 [==============================] - 19s 315ms/step - loss: 0.0592 - accuracy: 0.9872 - val_loss: 0.9875 - val_accuracy: 0.7667\n",
      "Epoch 7/10\n",
      "59/59 [==============================] - 18s 312ms/step - loss: 0.0340 - accuracy: 0.9931 - val_loss: 1.0827 - val_accuracy: 0.7857\n",
      "Epoch 8/10\n",
      "59/59 [==============================] - 19s 314ms/step - loss: 0.0166 - accuracy: 0.9957 - val_loss: 0.9101 - val_accuracy: 0.7857\n",
      "Epoch 9/10\n",
      "59/59 [==============================] - 19s 320ms/step - loss: 0.0237 - accuracy: 0.9942 - val_loss: 1.1277 - val_accuracy: 0.7857\n",
      "Epoch 10/10\n",
      "59/59 [==============================] - 19s 325ms/step - loss: 0.0158 - accuracy: 0.9968 - val_loss: 1.1456 - val_accuracy: 0.7714\n",
      "9/9 [==============================] - 1s 45ms/step\n",
      "🎯 LSTM Classification Report:\n",
      "              precision    recall  f1-score   support\n",
      "\n",
      "    negative       0.47      0.61      0.53        90\n",
      "     neutral       0.52      0.49      0.51        90\n",
      "    positive       0.47      0.37      0.41        90\n",
      "\n",
      "    accuracy                           0.49       270\n",
      "   macro avg       0.49      0.49      0.48       270\n",
      "weighted avg       0.49      0.49      0.48       270\n",
      "\n"
     ]
    },
    {
     "data": {
      "image/png": "[encoded data removed]",
      "text/plain": [
       "<Figure size 600x500 with 2 Axes>"
      ]
     },
     "metadata": {},
     "output_type": "display_data"
    }
   ],
   "source": [
    "\n",
    "from tensorflow.keras.preprocessing.text import Tokenizer\n",
    "from tensorflow.keras.preprocessing.sequence import pad_sequences\n",
    "from tensorflow.keras.models import Sequential\n",
    "from tensorflow.keras.layers import Embedding, LSTM, Dense, Dropout\n",
    "from sklearn.metrics import classification_report, confusion_matrix\n",
    "import seaborn as sns\n",
    "import matplotlib.pyplot as plt\n",
    "import numpy as np\n",
    "\n",
    "\n",
    "# Tokenize\n",
    "tokenizer = Tokenizer(num_words=10000)\n",
    "tokenizer.fit_on_texts(train_df[\"clean_review\"])\n",
    "\n",
    "X_train_seq = tokenizer.texts_to_sequences(train_df[\"clean_review\"])\n",
    "X_test_seq = tokenizer.texts_to_sequences(test_df[\"clean_review\"])\n",
    "\n",
    "X_train_pad = pad_sequences(X_train_seq, maxlen=100)\n",
    "X_test_pad = pad_sequences(X_test_seq, maxlen=100)\n",
    "\n",
    "# LSTM Model (Improved)\n",
    "model = Sequential()\n",
    "model.add(Embedding(input_dim=10000, output_dim=128, input_length=100))\n",
    "model.add(LSTM(128, dropout=0.2, recurrent_dropout=0.2, return_sequences=False))\n",
    "model.add(Dropout(0.3))\n",
    "model.add(Dense(3, activation='softmax'))\n",
    "\n",
    "model.compile(loss='sparse_categorical_crossentropy', optimizer='adam', metrics=['accuracy'])\n",
    "model.fit(X_train_pad, y_train, epochs=10, batch_size=32, validation_split=0.1, shuffle=True)\n",
    "\n",
    "# Predict\n",
    "y_pred_lstm = np.argmax(model.predict(X_test_pad), axis=1)\n",
    "\n",
    "# Report\n",
    "print(\"🎯 LSTM Classification Report:\")\n",
    "print(classification_report(y_test, y_pred_lstm, target_names=le.classes_))\n",
    "\n",
    "# Confusion Matrix\n",
    "cm = confusion_matrix(y_test, y_pred_lstm)\n",
    "plt.figure(figsize=(6,5))\n",
    "sns.heatmap(cm, annot=True, fmt='d', xticklabels=le.classes_, yticklabels=le.classes_, cmap='Blues')\n",
    "plt.xlabel('Predicted')\n",
    "plt.ylabel('Actual')\n",
    "plt.title('LSTM Confusion Matrix')\n",
    "plt.show()\n"
   ]
  },
  {
   "cell_type": "code",
   "execution_count": 48,
   "id": "85dbc11c",
   "metadata": {},
   "outputs": [],
   "source": [
    "import numpy as np\n",
    "from tensorflow.keras.preprocessing.sequence import pad_sequences\n",
    "\n",
    "# 🔮 Unified prediction function\n",
    "def predict_sentiment(text):\n",
    "    # Step 1: Preprocess\n",
    "    cleaned = preprocess_text(text)\n",
    "\n",
    "    # Step 2: Random Forest prediction using TF-IDF\n",
    "    tfidf_input = tfidf.transform([cleaned])\n",
    "    rf_raw_pred = rf.predict(tfidf_input)\n",
    "    rf_pred = le.inverse_transform(rf_raw_pred)[0]\n",
    "\n",
    "    # Step 3: LSTM prediction\n",
    "    seq = tokenizer.texts_to_sequences([cleaned])\n",
    "    pad_input = pad_sequences(seq, maxlen=100)\n",
    "    lstm_prob = model.predict(pad_input, verbose=0)\n",
    "    lstm_raw_pred = np.argmax(lstm_prob, axis=1)\n",
    "    lstm_pred = le.inverse_transform(lstm_raw_pred)[0]\n",
    "\n",
    "    # Step 4: Return predictions\n",
    "    return {\n",
    "        \"Random Forest\": rf_pred,\n",
    "        \"LSTM\": lstm_pred,\n",
    "    }\n"
   ]
  },
  {
   "cell_type": "code",
   "execution_count": 49,
   "id": "19849658-2c9b-4634-b7ea-828717b47aeb",
   "metadata": {},
   "outputs": [],
   "source": [
    "# 🔮 Unified prediction function\n",
    "def predict_sentiment(text):\n",
    "    cleaned = preprocess_text(text)\n",
    "    \n",
    "    # Random Forest prediction\n",
    "    tfidf_input = tfidf.transform([cleaned])\n",
    "    rf_pred = le.inverse_transform(rf.predict(tfidf_input))[0]\n",
    "\n",
    "    # LSTM prediction\n",
    "    seq = tokenizer.texts_to_sequences([cleaned])\n",
    "    pad = pad_sequences(seq, maxlen=100)\n",
    "    lstm_pred = le.inverse_transform([np.argmax(model.predict(pad), axis=1)[0]])[0]\n",
    "\n",
    "   \n",
    "\n",
    "    return {\n",
    "        \"Random Forest\": rf_pred,\n",
    "        \"LSTM\": lstm_pred,\n",
    "        \n",
    "    }"
   ]
  },
  {
   "cell_type": "code",
   "execution_count": 59,
   "id": "7167c68f-563e-4b31-af57-a83f1f86e5f1",
   "metadata": {},
   "outputs": [
    {
     "name": "stdout",
     "output_type": "stream",
     "text": [
      "1/1 [==============================] - 0s 64ms/step\n",
      "\n",
      "🔮 Predicted Sentiment:\n",
      "Random Forest: positive\n",
      "LSTM: neutral\n"
     ]
    }
   ],
   "source": [
    "# 🔍 Test example\n",
    "sample_text = \" यह फिल्म औसत थी \"\n",
    "results = predict_sentiment(sample_text)\n",
    "\n",
    "print(\"\\n🔮 Predicted Sentiment:\")\n",
    "for model_name, sentiment in results.items():\n",
    "    print(f\"{model_name}: {sentiment}\")\n"
   ]
  },
  {
   "cell_type": "code",
   "execution_count": null,
   "id": "0f87be4e",
   "metadata": {},
   "outputs": [],
   "source": [
    "यह फिल्म औसत थी   यह एक बुरी फिल्म है   यह फिल्म बहुत अच्छी थी"
   ]
  },
  {
   "cell_type": "code",
   "execution_count": 60,
   "id": "ebccd6e9",
   "metadata": {},
   "outputs": [
    {
     "name": "stdout",
     "output_type": "stream",
     "text": [
      "✅ Model saved as 'sentiment_model.h5'\n"
     ]
    },
    {
     "name": "stderr",
     "output_type": "stream",
     "text": [
      "C:\\Users\\HP\\anaconda3\\Lib\\site-packages\\tf_keras\\src\\engine\\training.py:3098: UserWarning: You are saving your model as an HDF5 file via `model.save()`. This file format is considered legacy. We recommend using instead the native TF-Keras format, e.g. `model.save('my_model.keras')`.\n",
      "  saving_api.save_model(\n"
     ]
    }
   ],
   "source": [
    "# Save the trained LSTM model to an H5 file\n",
    "model.save(\"sentiment_model.h5\")\n",
    "print(\"✅ Model saved as 'sentiment_model.h5'\")"
   ]
  },
  {
   "cell_type": "code",
   "execution_count": 61,
   "id": "4e9c3df6",
   "metadata": {},
   "outputs": [
    {
     "name": "stdout",
     "output_type": "stream",
     "text": [
      "✅ Tokenizer saved as 'tokenizer.pickle'\n"
     ]
    }
   ],
   "source": [
    "import pickle\n",
    "\n",
    "# Save the tokenizer that was used during training\n",
    "with open(\"tokenizer.pickle\", \"wb\") as handle:\n",
    "    pickle.dump(tokenizer, handle, protocol=pickle.HIGHEST_PROTOCOL)\n",
    "\n",
    "print(\"✅ Tokenizer saved as 'tokenizer.pickle'\")"
   ]
  },
  {
   "cell_type": "code",
   "execution_count": null,
   "id": "4a872c63",
   "metadata": {},
   "outputs": [],
   "source": []
  }
 ],
 "metadata": {
  "kernelspec": {
   "display_name": "Python 3 (ipykernel)",
   "language": "python",
   "name": "python3"
  },
  "language_info": {
   "codemirror_mode": {
    "name": "ipython",
    "version": 3
   },
   "file_extension": ".py",
   "mimetype": "text/x-python",
   "name": "python",
   "nbconvert_exporter": "python",
   "pygments_lexer": "ipython3",
   "version": "3.11.7"
  }
 },
 "nbformat": 4,
 "nbformat_minor": 5
}
